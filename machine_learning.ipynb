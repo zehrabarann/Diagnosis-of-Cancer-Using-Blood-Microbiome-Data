{
  "nbformat": 4,
  "nbformat_minor": 0,
  "metadata": {
    "colab": {
      "name": "machine_learning.ipynb",
      "provenance": [],
      "collapsed_sections": [],
      "include_colab_link": true
    },
    "kernelspec": {
      "name": "python3",
      "display_name": "Python 3"
    },
    "accelerator": "GPU"
  },
  "cells": [
    {
      "cell_type": "markdown",
      "metadata": {
        "id": "view-in-github",
        "colab_type": "text"
      },
      "source": [
        "<a href=\"https://colab.research.google.com/github/zehrabarann/Diagnosis-of-Cancer-Using-Blood-Microbiome-Data/blob/main/machine_learning.ipynb\" target=\"_parent\"><img src=\"https://colab.research.google.com/assets/colab-badge.svg\" alt=\"Open In Colab\"/></a>"
      ]
    },
    {
      "cell_type": "code",
      "metadata": {
        "id": "ujyiN9pt1bn2"
      },
      "source": [
        "import math\n",
        "\n",
        "import numpy as np\n",
        "import pandas as pd\n",
        "import tensorflow as tf\n",
        "import keras\n",
        "\n",
        "from sklearn.preprocessing import LabelEncoder\n",
        "from sklearn.preprocessing import StandardScaler\n",
        "from sklearn.model_selection import train_test_split\n",
        "\n",
        "from numpy import loadtxt\n",
        "import xgboost as xgb\n",
        "from sklearn.model_selection import train_test_split\n",
        "from sklearn.metrics import accuracy_score"
      ],
      "execution_count": null,
      "outputs": []
    },
    {
      "cell_type": "code",
      "metadata": {
        "id": "uRLpqZEz1eTh"
      },
      "source": [
        "!pip install xgboost"
      ],
      "execution_count": null,
      "outputs": []
    },
    {
      "cell_type": "code",
      "metadata": {
        "id": "lQELtRTa1kbS"
      },
      "source": [
        "np.random.seed(2019)\n",
        "#tf.set_random_seed(1)"
      ],
      "execution_count": null,
      "outputs": []
    },
    {
      "cell_type": "code",
      "metadata": {
        "id": "Ug1ER4p51kaC",
        "colab": {
          "base_uri": "https://localhost:8080/",
          "height": 388
        },
        "outputId": "d1ebd9a6-379a-4edc-f85c-73ae11415838"
      },
      "source": [
        "data_df = pd.read_csv('your data csv')\n",
        "labels_df = pd.read_csv('your labels csv',delimiter=\",\")\n",
        "#data1 = np.array(data_df)\n",
        "#data2 = np.array(labels_df)\n",
        "target_labels = labels_df['disease_type']\n",
        "print(data_df.shape)\n",
        "print(labels_df.shape)\n",
        "labels_df.head()\n",
        "labels_df['disease_type'].hist()\n",
        "labels_df['disease_type'].value_counts()"
      ],
      "execution_count": null,
      "outputs": [
        {
          "output_type": "stream",
          "text": [
            "(355, 1837)\n",
            "(355, 2)\n"
          ],
          "name": "stdout"
        },
        {
          "output_type": "execute_result",
          "data": {
            "text/plain": [
              "prosrtate cancer    121\n",
              "colon cancer        109\n",
              "breast cancer       107\n",
              "lung cancer          18\n",
              "Name: disease_type, dtype: int64"
            ]
          },
          "metadata": {
            "tags": []
          },
          "execution_count": 5
        },
        {
          "output_type": "display_data",
          "data": {
            "image/png": "[encoded data removed]",
            "text/plain": [
              "<Figure size 432x288 with 1 Axes>"
            ]
          },
          "metadata": {
            "tags": [],
            "needs_background": "light"
          }
        }
      ]
    },
    {
      "cell_type": "code",
      "metadata": {
        "id": "TDo2X_qi1kYk"
      },
      "source": [
        "labels_df.drop(columns=[\"Sample\"], inplace=True) ##belirtilen etiketleri satır ve sütundan kaldır"
      ],
      "execution_count": null,
      "outputs": []
    },
    {
      "cell_type": "code",
      "metadata": {
        "id": "VNquR8z21kWf"
      },
      "source": [
        "data_df.drop(columns=[\"Unnamed: 0\"],inplace=True)"
      ],
      "execution_count": null,
      "outputs": []
    },
    {
      "cell_type": "code",
      "metadata": {
        "id": "C0kMyRgY1kTg"
      },
      "source": [
        "data = pd.concat([labels_df, data_df], axis=1, sort=False) ##eksen birleştirme(concat)"
      ],
      "execution_count": null,
      "outputs": []
    },
    {
      "cell_type": "code",
      "metadata": {
        "id": "XHWDoj151kSL"
      },
      "source": [
        "data.dropna(inplace = True)  ##eksik değerleri kaldırır. True= işlemi yerinde yap ve none dönder!"
      ],
      "execution_count": null,
      "outputs": []
    },
    {
      "cell_type": "code",
      "metadata": {
        "id": "uXmtD38V1kPC",
        "colab": {
          "base_uri": "https://localhost:8080/",
          "height": 510
        },
        "outputId": "060fdd77-d063-4798-ae2b-64b5a6b17539"
      },
      "source": [
        "data"
      ],
      "execution_count": null,
      "outputs": [
        {
          "output_type": "execute_result",
          "data": {
            "text/html": [
              "<div>\n",
              "<style scoped>\n",
              "    .dataframe tbody tr th:only-of-type {\n",
              "        vertical-align: middle;\n",
              "    }\n",
              "\n",
              "    .dataframe tbody tr th {\n",
              "        vertical-align: top;\n",
              "    }\n",
              "\n",
              "    .dataframe thead th {\n",
              "        text-align: right;\n",
              "    }\n",
              "</style>\n",
              "<table border=\"1\" class=\"dataframe\">\n",
              "  <thead>\n",
              "    <tr style=\"text-align: right;\">\n",
              "      <th></th>\n",
              "      <th>disease_type</th>\n",
              "      <th>k__Viruses.f__Phycodnaviridae.g__Prasinovirus</th>\n",
              "      <th>k__Viruses.o__Caudovirales.f__Siphoviridae.g__Sfi1unalikevirus</th>\n",
              "      <th>k__Viruses.o__Herpesvirales.f__Herpesviridae.g__Simplexvirus</th>\n",
              "      <th>k__Viruses.o__Caudovirales.f__Siphoviridae.g__C2likevirus</th>\n",
              "      <th>k__Viruses.f__Poxviridae.g__Parapoxvirus</th>\n",
              "      <th>k__Viruses.f__Papillomaviridae.g__Dyolambdapapillomavirus</th>\n",
              "      <th>k__Viruses.o__Mononegavirales.f__Bornaviridae.g__Bornavirus</th>\n",
              "      <th>k__Viruses.f__Bicaudaviridae.g__Bicaudavirus</th>\n",
              "      <th>k__Viruses.o__Picornavirales.f__Picornaviridae.g__Aquamavirus</th>\n",
              "      <th>k__Viruses.o__Herpesvirales.f__Herpesviridae.g__Scutavirus</th>\n",
              "      <th>k__Viruses.o__Herpesvirales.f__Herpesviridae.g__Mardivirus</th>\n",
              "      <th>k__Viruses.f__Baculoviridae.g__Deltabaculovirus</th>\n",
              "      <th>k__Viruses.f__Papillomaviridae.g__Taupapillomavirus</th>\n",
              "      <th>k__Viruses.o__Caudovirales.f__Myoviridae.g__I3likevirus</th>\n",
              "      <th>k__Viruses.f__Virgaviridae.g__Furovirus</th>\n",
              "      <th>k__Viruses.o__Herpesvirales.f__Herpesviridae.g__Proboscivirus</th>\n",
              "      <th>k__Viruses.o__Herpesvirales.f__Alloherpesviridae.g__Ictalurivirus</th>\n",
              "      <th>k__Viruses.f__Inoviridae.g__Inovirus</th>\n",
              "      <th>k__Viruses.f__Marseilleviridae.g__Marseillevirus</th>\n",
              "      <th>k__Viruses.o__Nidovirales.f__Coronaviridae.g__Gammacoronavirus</th>\n",
              "      <th>k__Viruses.f__Anelloviridae.g__Thetatorquevirus</th>\n",
              "      <th>k__Viruses.f__Ascoviridae.g__Ascovirus</th>\n",
              "      <th>k__Viruses.o__Tymovirales.f__Tymoviridae.g__Maculavirus</th>\n",
              "      <th>k__Viruses.o__Caudovirales.f__Myoviridae.g__Spo1virus</th>\n",
              "      <th>k__Viruses.f__Circoviridae.g__Gyrovirus</th>\n",
              "      <th>k__Viruses.o__Mononegavirales.f__Rhabdoviridae.g__Novirhabdovirus</th>\n",
              "      <th>k__Viruses.o__Picornavirales.f__Picornaviridae.g__Sicinivirus</th>\n",
              "      <th>k__Viruses.o__Picornavirales.f__Picornaviridae.g__Dicipivirus</th>\n",
              "      <th>k__Viruses.f__Poxviridae.g__Molluscipoxvirus</th>\n",
              "      <th>k__Viruses.o__Tymovirales.f__Tymoviridae.g__Tymovirus</th>\n",
              "      <th>k__Viruses.f__Arenaviridae.g__Mammarenavirus</th>\n",
              "      <th>k__Viruses.f__Flaviviridae.g__Hepacivirus</th>\n",
              "      <th>k__Viruses.f__Poxviridae.g__Alphaentomopoxvirus</th>\n",
              "      <th>k__Viruses.f__Anelloviridae.g__Gammatorquevirus</th>\n",
              "      <th>k__Viruses.g__Tenuivirus</th>\n",
              "      <th>k__Viruses.f__Hepeviridae.g__Piscihepevirus</th>\n",
              "      <th>k__Viruses.f__Virgaviridae.g__Pomovirus</th>\n",
              "      <th>k__Viruses.f__Caulimoviridae.g__Badnavirus</th>\n",
              "      <th>k__Viruses.f__Polydnaviridae.g__Ichnovirus</th>\n",
              "      <th>...</th>\n",
              "      <th>k__Bacteria.p__Bacteroidetes.c__Bacteroidia.o__Bacteroidales.f__Marinilabiliaceae.g__Anaerophaga</th>\n",
              "      <th>k__Bacteria.p__Cyanobacteria.c__Gloeobacteria.o__Gloeobacterales.g__Gloeobacter</th>\n",
              "      <th>k__Archaea.p__Euryarchaeota.c__Methanomicrobia.o__Methanosarcinales.f__Methanosarcinaceae.g__Methanosarcina</th>\n",
              "      <th>k__Bacteria.p__Actinobacteria.c__Thermoleophilia.o__Solirubrobacterales.f__Conexibacteraceae.g__Conexibacter</th>\n",
              "      <th>k__Bacteria.p__Tenericutes.c__Mollicutes.o__Mycoplasmatales.f__Mycoplasmataceae.g__Ureaplasma</th>\n",
              "      <th>k__Bacteria.p__Actinobacteria.c__Actinobacteria.o__Micrococcales.f__Microbacteriaceae.g__Microbacterium</th>\n",
              "      <th>k__Archaea.p__Euryarchaeota.c__Halobacteria.o__Haloferacales.f__Haloferacaceae.g__Halolamina</th>\n",
              "      <th>k__Bacteria.p__Proteobacteria.c__Epsilonproteobacteria.o__Campylobacterales.f__Campylobacteraceae.g__Sulfurospirillum</th>\n",
              "      <th>k__Bacteria.p__Spirochaetes.c__Spirochaetia.o__Spirochaetales.f__Spirochaetaceae.g__Spirochaeta</th>\n",
              "      <th>k__Bacteria.p__Actinobacteria.c__Actinobacteria.o__Micrococcales.f__Microbacteriaceae.g__Cryobacterium</th>\n",
              "      <th>k__Bacteria.p__Actinobacteria.c__Actinobacteria.o__Corynebacteriales.f__Gordoniaceae.g__Gordonia</th>\n",
              "      <th>k__Bacteria.p__Planctomycetes.c__Planctomycetia.o__Planctomycetales.f__Planctomycetaceae.g__Rubinisphaera</th>\n",
              "      <th>k__Bacteria.p__Actinobacteria.c__Actinobacteria.g__Thermobispora</th>\n",
              "      <th>k__Bacteria.p__Actinobacteria.c__Actinobacteria.o__Glycomycetales.f__Glycomycetaceae.g__Glycomyces</th>\n",
              "      <th>k__Bacteria.p__Proteobacteria.c__Betaproteobacteria.o__Burkholderiales.f__Comamonadaceae.g__Ottowia</th>\n",
              "      <th>k__Bacteria.p__Proteobacteria.c__Alphaproteobacteria.o__Rhizobiales.f__Xanthobacteraceae.g__Ancylobacter</th>\n",
              "      <th>k__Bacteria.p__Firmicutes.c__Clostridia.o__Clostridiales.f__Ruminococcaceae.g__Faecalibacterium</th>\n",
              "      <th>k__Bacteria.p__Firmicutes.c__Bacilli.o__Bacillales.f__Bacillaceae.g__Paucisalibacillus</th>\n",
              "      <th>k__Bacteria.p__Proteobacteria.c__Betaproteobacteria.o__Burkholderiales.f__Burkholderiaceae.g__Polynucleobacter</th>\n",
              "      <th>k__Bacteria.p__Proteobacteria.c__Alphaproteobacteria.o__Rhodospirillales.f__Rhodospirillaceae.g__Caenispirillum</th>\n",
              "      <th>k__Archaea.p__Euryarchaeota.c__Methanomicrobia.o__Methanomicrobiales.f__Methanoregulaceae.g__Methanoregula</th>\n",
              "      <th>k__Archaea.p__Crenarchaeota.c__Thermoprotei.o__Thermoproteales.f__Thermofilaceae.g__Thermofilum</th>\n",
              "      <th>k__Bacteria.p__Proteobacteria.c__Betaproteobacteria.o__Sulfuricellales.f__Sulfuricellaceae.g__Sulfuricella</th>\n",
              "      <th>k__Bacteria.p__Proteobacteria.c__Deltaproteobacteria.o__Bdellovibrionales.f__Bacteriovoracaceae.g__Bacteriovorax</th>\n",
              "      <th>k__Bacteria.p__Bacteroidetes.c__Chitinophagia.o__Chitinophagales.f__Chitinophagaceae.g__Niastella</th>\n",
              "      <th>k__Bacteria.p__Actinobacteria.c__Actinobacteria.o__Micrococcales.f__Micrococcaceae.g__Yaniella</th>\n",
              "      <th>k__Bacteria.p__Proteobacteria.c__Gammaproteobacteria.o__Enterobacteriales.f__Enterobacteriaceae.g__Citrobacter</th>\n",
              "      <th>k__Bacteria.p__Proteobacteria.c__Deltaproteobacteria.o__Myxococcales.f__Polyangiaceae.g__Sorangium</th>\n",
              "      <th>k__Archaea.p__Euryarchaeota.c__Methanomicrobia.o__Methanosarcinales.f__Methermicoccaceae.g__Methermicoccus</th>\n",
              "      <th>k__Bacteria.p__Aquificae.c__Aquificae.o__Aquificales.f__Aquificaceae.g__Hydrogenobacter</th>\n",
              "      <th>k__Bacteria.p__Synergistetes.c__Synergistia.o__Synergistales.f__Synergistaceae.g__Cloacibacillus</th>\n",
              "      <th>k__Bacteria.p__Firmicutes.c__Clostridia.o__Clostridiales.f__Lachnospiraceae.g__Sellimonas</th>\n",
              "      <th>k__Archaea.p__Thaumarchaeota.g__Candidatus_Nitrosotenuis</th>\n",
              "      <th>k__Bacteria.p__Rhodothermaeota.c__Balneolia.o__Balneolales.f__Balneolaceae.g__Gracilimonas</th>\n",
              "      <th>k__Archaea.p__Crenarchaeota.c__Thermoprotei.o__Thermoproteales.f__Thermoproteaceae.g__Caldivirga</th>\n",
              "      <th>k__Bacteria.p__Firmicutes.c__Clostridia.o__Clostridiales.f__Clostridiales_Family_XIII._Incertae_Sedis.g__Casaltella</th>\n",
              "      <th>k__Archaea.p__Crenarchaeota.c__Thermoprotei.o__Desulfurococcales.f__Desulfurococcaceae.g__Thermosphaera</th>\n",
              "      <th>k__Bacteria.p__Proteobacteria.c__Betaproteobacteria.o__Neisseriales.f__Chromobacteriaceae.g__Deefgea</th>\n",
              "      <th>k__Bacteria.p__Deferribacteres.c__Deferribacteres.o__Deferribacterales.f__Deferribacteraceae.g__Geovibrio</th>\n",
              "      <th>k__Bacteria.p__Firmicutes.c__Clostridia.o__Clostridiales.f__Ruminococcaceae.g__Subdoligranulum</th>\n",
              "    </tr>\n",
              "  </thead>\n",
              "  <tbody>\n",
              "    <tr>\n",
              "      <th>0</th>\n",
              "      <td>colon cancer</td>\n",
              "      <td>0</td>\n",
              "      <td>0</td>\n",
              "      <td>14</td>\n",
              "      <td>0</td>\n",
              "      <td>0</td>\n",
              "      <td>0</td>\n",
              "      <td>0</td>\n",
              "      <td>0</td>\n",
              "      <td>0</td>\n",
              "      <td>0</td>\n",
              "      <td>70</td>\n",
              "      <td>0</td>\n",
              "      <td>6</td>\n",
              "      <td>0</td>\n",
              "      <td>18</td>\n",
              "      <td>16</td>\n",
              "      <td>56</td>\n",
              "      <td>0</td>\n",
              "      <td>0</td>\n",
              "      <td>4</td>\n",
              "      <td>0</td>\n",
              "      <td>10</td>\n",
              "      <td>0</td>\n",
              "      <td>12</td>\n",
              "      <td>0</td>\n",
              "      <td>0</td>\n",
              "      <td>4</td>\n",
              "      <td>10</td>\n",
              "      <td>26</td>\n",
              "      <td>8</td>\n",
              "      <td>0</td>\n",
              "      <td>6</td>\n",
              "      <td>0</td>\n",
              "      <td>0</td>\n",
              "      <td>0</td>\n",
              "      <td>0</td>\n",
              "      <td>0</td>\n",
              "      <td>0</td>\n",
              "      <td>900</td>\n",
              "      <td>...</td>\n",
              "      <td>0</td>\n",
              "      <td>0</td>\n",
              "      <td>875</td>\n",
              "      <td>1</td>\n",
              "      <td>39</td>\n",
              "      <td>11958</td>\n",
              "      <td>3</td>\n",
              "      <td>0</td>\n",
              "      <td>1</td>\n",
              "      <td>1</td>\n",
              "      <td>7</td>\n",
              "      <td>0</td>\n",
              "      <td>0</td>\n",
              "      <td>0</td>\n",
              "      <td>2</td>\n",
              "      <td>0</td>\n",
              "      <td>0</td>\n",
              "      <td>1</td>\n",
              "      <td>0</td>\n",
              "      <td>0</td>\n",
              "      <td>0</td>\n",
              "      <td>1</td>\n",
              "      <td>6</td>\n",
              "      <td>2</td>\n",
              "      <td>2</td>\n",
              "      <td>0</td>\n",
              "      <td>176</td>\n",
              "      <td>5</td>\n",
              "      <td>0</td>\n",
              "      <td>0</td>\n",
              "      <td>0</td>\n",
              "      <td>0</td>\n",
              "      <td>0</td>\n",
              "      <td>0</td>\n",
              "      <td>0</td>\n",
              "      <td>0</td>\n",
              "      <td>0</td>\n",
              "      <td>0</td>\n",
              "      <td>0</td>\n",
              "      <td>0</td>\n",
              "    </tr>\n",
              "    <tr>\n",
              "      <th>1</th>\n",
              "      <td>colon cancer</td>\n",
              "      <td>0</td>\n",
              "      <td>0</td>\n",
              "      <td>18</td>\n",
              "      <td>0</td>\n",
              "      <td>0</td>\n",
              "      <td>0</td>\n",
              "      <td>0</td>\n",
              "      <td>0</td>\n",
              "      <td>0</td>\n",
              "      <td>0</td>\n",
              "      <td>22</td>\n",
              "      <td>0</td>\n",
              "      <td>8</td>\n",
              "      <td>0</td>\n",
              "      <td>4</td>\n",
              "      <td>12</td>\n",
              "      <td>12</td>\n",
              "      <td>0</td>\n",
              "      <td>0</td>\n",
              "      <td>2</td>\n",
              "      <td>0</td>\n",
              "      <td>0</td>\n",
              "      <td>0</td>\n",
              "      <td>4</td>\n",
              "      <td>0</td>\n",
              "      <td>0</td>\n",
              "      <td>0</td>\n",
              "      <td>0</td>\n",
              "      <td>8</td>\n",
              "      <td>0</td>\n",
              "      <td>0</td>\n",
              "      <td>4</td>\n",
              "      <td>0</td>\n",
              "      <td>0</td>\n",
              "      <td>0</td>\n",
              "      <td>0</td>\n",
              "      <td>0</td>\n",
              "      <td>0</td>\n",
              "      <td>216</td>\n",
              "      <td>...</td>\n",
              "      <td>0</td>\n",
              "      <td>0</td>\n",
              "      <td>253</td>\n",
              "      <td>0</td>\n",
              "      <td>18</td>\n",
              "      <td>2527</td>\n",
              "      <td>0</td>\n",
              "      <td>0</td>\n",
              "      <td>1</td>\n",
              "      <td>3</td>\n",
              "      <td>5</td>\n",
              "      <td>0</td>\n",
              "      <td>0</td>\n",
              "      <td>0</td>\n",
              "      <td>0</td>\n",
              "      <td>0</td>\n",
              "      <td>0</td>\n",
              "      <td>0</td>\n",
              "      <td>0</td>\n",
              "      <td>0</td>\n",
              "      <td>0</td>\n",
              "      <td>0</td>\n",
              "      <td>0</td>\n",
              "      <td>1</td>\n",
              "      <td>0</td>\n",
              "      <td>0</td>\n",
              "      <td>185</td>\n",
              "      <td>2</td>\n",
              "      <td>0</td>\n",
              "      <td>0</td>\n",
              "      <td>0</td>\n",
              "      <td>0</td>\n",
              "      <td>0</td>\n",
              "      <td>0</td>\n",
              "      <td>0</td>\n",
              "      <td>0</td>\n",
              "      <td>0</td>\n",
              "      <td>0</td>\n",
              "      <td>0</td>\n",
              "      <td>0</td>\n",
              "    </tr>\n",
              "    <tr>\n",
              "      <th>2</th>\n",
              "      <td>colon cancer</td>\n",
              "      <td>2</td>\n",
              "      <td>0</td>\n",
              "      <td>484</td>\n",
              "      <td>0</td>\n",
              "      <td>8</td>\n",
              "      <td>0</td>\n",
              "      <td>0</td>\n",
              "      <td>2</td>\n",
              "      <td>2</td>\n",
              "      <td>0</td>\n",
              "      <td>556</td>\n",
              "      <td>28</td>\n",
              "      <td>6</td>\n",
              "      <td>8</td>\n",
              "      <td>142</td>\n",
              "      <td>188</td>\n",
              "      <td>372</td>\n",
              "      <td>0</td>\n",
              "      <td>0</td>\n",
              "      <td>14</td>\n",
              "      <td>0</td>\n",
              "      <td>32</td>\n",
              "      <td>0</td>\n",
              "      <td>130</td>\n",
              "      <td>2</td>\n",
              "      <td>0</td>\n",
              "      <td>6</td>\n",
              "      <td>58</td>\n",
              "      <td>78</td>\n",
              "      <td>92</td>\n",
              "      <td>0</td>\n",
              "      <td>482</td>\n",
              "      <td>6</td>\n",
              "      <td>30</td>\n",
              "      <td>8</td>\n",
              "      <td>6</td>\n",
              "      <td>0</td>\n",
              "      <td>4</td>\n",
              "      <td>3132</td>\n",
              "      <td>...</td>\n",
              "      <td>1</td>\n",
              "      <td>0</td>\n",
              "      <td>8888</td>\n",
              "      <td>6</td>\n",
              "      <td>417</td>\n",
              "      <td>168777</td>\n",
              "      <td>3</td>\n",
              "      <td>0</td>\n",
              "      <td>1</td>\n",
              "      <td>2</td>\n",
              "      <td>6</td>\n",
              "      <td>0</td>\n",
              "      <td>0</td>\n",
              "      <td>0</td>\n",
              "      <td>2</td>\n",
              "      <td>0</td>\n",
              "      <td>16</td>\n",
              "      <td>7</td>\n",
              "      <td>1</td>\n",
              "      <td>41</td>\n",
              "      <td>2</td>\n",
              "      <td>0</td>\n",
              "      <td>24</td>\n",
              "      <td>18</td>\n",
              "      <td>6</td>\n",
              "      <td>0</td>\n",
              "      <td>4401</td>\n",
              "      <td>374</td>\n",
              "      <td>0</td>\n",
              "      <td>0</td>\n",
              "      <td>0</td>\n",
              "      <td>0</td>\n",
              "      <td>0</td>\n",
              "      <td>0</td>\n",
              "      <td>0</td>\n",
              "      <td>0</td>\n",
              "      <td>0</td>\n",
              "      <td>0</td>\n",
              "      <td>0</td>\n",
              "      <td>0</td>\n",
              "    </tr>\n",
              "    <tr>\n",
              "      <th>3</th>\n",
              "      <td>colon cancer</td>\n",
              "      <td>4</td>\n",
              "      <td>0</td>\n",
              "      <td>96</td>\n",
              "      <td>0</td>\n",
              "      <td>2</td>\n",
              "      <td>0</td>\n",
              "      <td>0</td>\n",
              "      <td>2</td>\n",
              "      <td>4</td>\n",
              "      <td>0</td>\n",
              "      <td>68</td>\n",
              "      <td>10</td>\n",
              "      <td>22</td>\n",
              "      <td>0</td>\n",
              "      <td>50</td>\n",
              "      <td>52</td>\n",
              "      <td>64</td>\n",
              "      <td>0</td>\n",
              "      <td>0</td>\n",
              "      <td>4</td>\n",
              "      <td>0</td>\n",
              "      <td>14</td>\n",
              "      <td>0</td>\n",
              "      <td>28</td>\n",
              "      <td>0</td>\n",
              "      <td>0</td>\n",
              "      <td>2</td>\n",
              "      <td>36</td>\n",
              "      <td>24</td>\n",
              "      <td>10</td>\n",
              "      <td>0</td>\n",
              "      <td>48</td>\n",
              "      <td>2</td>\n",
              "      <td>4</td>\n",
              "      <td>0</td>\n",
              "      <td>0</td>\n",
              "      <td>4</td>\n",
              "      <td>0</td>\n",
              "      <td>926</td>\n",
              "      <td>...</td>\n",
              "      <td>1</td>\n",
              "      <td>0</td>\n",
              "      <td>1138</td>\n",
              "      <td>1</td>\n",
              "      <td>87</td>\n",
              "      <td>14238</td>\n",
              "      <td>6</td>\n",
              "      <td>0</td>\n",
              "      <td>1</td>\n",
              "      <td>0</td>\n",
              "      <td>24</td>\n",
              "      <td>0</td>\n",
              "      <td>0</td>\n",
              "      <td>0</td>\n",
              "      <td>3</td>\n",
              "      <td>0</td>\n",
              "      <td>1</td>\n",
              "      <td>2</td>\n",
              "      <td>0</td>\n",
              "      <td>10</td>\n",
              "      <td>1</td>\n",
              "      <td>0</td>\n",
              "      <td>5</td>\n",
              "      <td>5</td>\n",
              "      <td>0</td>\n",
              "      <td>0</td>\n",
              "      <td>488</td>\n",
              "      <td>9</td>\n",
              "      <td>0</td>\n",
              "      <td>0</td>\n",
              "      <td>0</td>\n",
              "      <td>0</td>\n",
              "      <td>0</td>\n",
              "      <td>0</td>\n",
              "      <td>0</td>\n",
              "      <td>0</td>\n",
              "      <td>0</td>\n",
              "      <td>0</td>\n",
              "      <td>0</td>\n",
              "      <td>0</td>\n",
              "    </tr>\n",
              "    <tr>\n",
              "      <th>4</th>\n",
              "      <td>colon cancer</td>\n",
              "      <td>2</td>\n",
              "      <td>0</td>\n",
              "      <td>128</td>\n",
              "      <td>0</td>\n",
              "      <td>16</td>\n",
              "      <td>0</td>\n",
              "      <td>4</td>\n",
              "      <td>0</td>\n",
              "      <td>4</td>\n",
              "      <td>0</td>\n",
              "      <td>222</td>\n",
              "      <td>2</td>\n",
              "      <td>0</td>\n",
              "      <td>4</td>\n",
              "      <td>46</td>\n",
              "      <td>86</td>\n",
              "      <td>418</td>\n",
              "      <td>0</td>\n",
              "      <td>0</td>\n",
              "      <td>8</td>\n",
              "      <td>0</td>\n",
              "      <td>28</td>\n",
              "      <td>0</td>\n",
              "      <td>70</td>\n",
              "      <td>2</td>\n",
              "      <td>0</td>\n",
              "      <td>0</td>\n",
              "      <td>66</td>\n",
              "      <td>90</td>\n",
              "      <td>36</td>\n",
              "      <td>0</td>\n",
              "      <td>86</td>\n",
              "      <td>0</td>\n",
              "      <td>8</td>\n",
              "      <td>6</td>\n",
              "      <td>2</td>\n",
              "      <td>2</td>\n",
              "      <td>0</td>\n",
              "      <td>2412</td>\n",
              "      <td>...</td>\n",
              "      <td>2</td>\n",
              "      <td>2</td>\n",
              "      <td>3706</td>\n",
              "      <td>1</td>\n",
              "      <td>219</td>\n",
              "      <td>87910</td>\n",
              "      <td>7</td>\n",
              "      <td>2</td>\n",
              "      <td>1</td>\n",
              "      <td>8</td>\n",
              "      <td>6</td>\n",
              "      <td>1</td>\n",
              "      <td>0</td>\n",
              "      <td>1</td>\n",
              "      <td>6</td>\n",
              "      <td>0</td>\n",
              "      <td>6</td>\n",
              "      <td>2</td>\n",
              "      <td>1</td>\n",
              "      <td>6</td>\n",
              "      <td>1</td>\n",
              "      <td>0</td>\n",
              "      <td>3</td>\n",
              "      <td>5</td>\n",
              "      <td>3</td>\n",
              "      <td>0</td>\n",
              "      <td>1156</td>\n",
              "      <td>31</td>\n",
              "      <td>0</td>\n",
              "      <td>0</td>\n",
              "      <td>0</td>\n",
              "      <td>0</td>\n",
              "      <td>0</td>\n",
              "      <td>0</td>\n",
              "      <td>0</td>\n",
              "      <td>0</td>\n",
              "      <td>0</td>\n",
              "      <td>0</td>\n",
              "      <td>0</td>\n",
              "      <td>0</td>\n",
              "    </tr>\n",
              "    <tr>\n",
              "      <th>...</th>\n",
              "      <td>...</td>\n",
              "      <td>...</td>\n",
              "      <td>...</td>\n",
              "      <td>...</td>\n",
              "      <td>...</td>\n",
              "      <td>...</td>\n",
              "      <td>...</td>\n",
              "      <td>...</td>\n",
              "      <td>...</td>\n",
              "      <td>...</td>\n",
              "      <td>...</td>\n",
              "      <td>...</td>\n",
              "      <td>...</td>\n",
              "      <td>...</td>\n",
              "      <td>...</td>\n",
              "      <td>...</td>\n",
              "      <td>...</td>\n",
              "      <td>...</td>\n",
              "      <td>...</td>\n",
              "      <td>...</td>\n",
              "      <td>...</td>\n",
              "      <td>...</td>\n",
              "      <td>...</td>\n",
              "      <td>...</td>\n",
              "      <td>...</td>\n",
              "      <td>...</td>\n",
              "      <td>...</td>\n",
              "      <td>...</td>\n",
              "      <td>...</td>\n",
              "      <td>...</td>\n",
              "      <td>...</td>\n",
              "      <td>...</td>\n",
              "      <td>...</td>\n",
              "      <td>...</td>\n",
              "      <td>...</td>\n",
              "      <td>...</td>\n",
              "      <td>...</td>\n",
              "      <td>...</td>\n",
              "      <td>...</td>\n",
              "      <td>...</td>\n",
              "      <td>...</td>\n",
              "      <td>...</td>\n",
              "      <td>...</td>\n",
              "      <td>...</td>\n",
              "      <td>...</td>\n",
              "      <td>...</td>\n",
              "      <td>...</td>\n",
              "      <td>...</td>\n",
              "      <td>...</td>\n",
              "      <td>...</td>\n",
              "      <td>...</td>\n",
              "      <td>...</td>\n",
              "      <td>...</td>\n",
              "      <td>...</td>\n",
              "      <td>...</td>\n",
              "      <td>...</td>\n",
              "      <td>...</td>\n",
              "      <td>...</td>\n",
              "      <td>...</td>\n",
              "      <td>...</td>\n",
              "      <td>...</td>\n",
              "      <td>...</td>\n",
              "      <td>...</td>\n",
              "      <td>...</td>\n",
              "      <td>...</td>\n",
              "      <td>...</td>\n",
              "      <td>...</td>\n",
              "      <td>...</td>\n",
              "      <td>...</td>\n",
              "      <td>...</td>\n",
              "      <td>...</td>\n",
              "      <td>...</td>\n",
              "      <td>...</td>\n",
              "      <td>...</td>\n",
              "      <td>...</td>\n",
              "      <td>...</td>\n",
              "      <td>...</td>\n",
              "      <td>...</td>\n",
              "      <td>...</td>\n",
              "      <td>...</td>\n",
              "      <td>...</td>\n",
              "    </tr>\n",
              "    <tr>\n",
              "      <th>350</th>\n",
              "      <td>prosrtate cancer</td>\n",
              "      <td>2</td>\n",
              "      <td>0</td>\n",
              "      <td>36</td>\n",
              "      <td>0</td>\n",
              "      <td>0</td>\n",
              "      <td>0</td>\n",
              "      <td>0</td>\n",
              "      <td>0</td>\n",
              "      <td>6</td>\n",
              "      <td>0</td>\n",
              "      <td>36</td>\n",
              "      <td>0</td>\n",
              "      <td>0</td>\n",
              "      <td>0</td>\n",
              "      <td>34</td>\n",
              "      <td>16</td>\n",
              "      <td>10</td>\n",
              "      <td>0</td>\n",
              "      <td>0</td>\n",
              "      <td>0</td>\n",
              "      <td>0</td>\n",
              "      <td>2</td>\n",
              "      <td>0</td>\n",
              "      <td>30</td>\n",
              "      <td>0</td>\n",
              "      <td>0</td>\n",
              "      <td>0</td>\n",
              "      <td>38</td>\n",
              "      <td>12</td>\n",
              "      <td>6</td>\n",
              "      <td>0</td>\n",
              "      <td>22</td>\n",
              "      <td>2</td>\n",
              "      <td>2</td>\n",
              "      <td>0</td>\n",
              "      <td>2</td>\n",
              "      <td>0</td>\n",
              "      <td>0</td>\n",
              "      <td>200</td>\n",
              "      <td>...</td>\n",
              "      <td>2</td>\n",
              "      <td>0</td>\n",
              "      <td>766</td>\n",
              "      <td>0</td>\n",
              "      <td>37</td>\n",
              "      <td>5275</td>\n",
              "      <td>0</td>\n",
              "      <td>0</td>\n",
              "      <td>0</td>\n",
              "      <td>3</td>\n",
              "      <td>0</td>\n",
              "      <td>0</td>\n",
              "      <td>0</td>\n",
              "      <td>1</td>\n",
              "      <td>1</td>\n",
              "      <td>0</td>\n",
              "      <td>1</td>\n",
              "      <td>0</td>\n",
              "      <td>0</td>\n",
              "      <td>0</td>\n",
              "      <td>0</td>\n",
              "      <td>0</td>\n",
              "      <td>5</td>\n",
              "      <td>1</td>\n",
              "      <td>0</td>\n",
              "      <td>0</td>\n",
              "      <td>780</td>\n",
              "      <td>4</td>\n",
              "      <td>0</td>\n",
              "      <td>0</td>\n",
              "      <td>0</td>\n",
              "      <td>0</td>\n",
              "      <td>0</td>\n",
              "      <td>0</td>\n",
              "      <td>0</td>\n",
              "      <td>0</td>\n",
              "      <td>0</td>\n",
              "      <td>0</td>\n",
              "      <td>0</td>\n",
              "      <td>0</td>\n",
              "    </tr>\n",
              "    <tr>\n",
              "      <th>351</th>\n",
              "      <td>prosrtate cancer</td>\n",
              "      <td>4</td>\n",
              "      <td>0</td>\n",
              "      <td>110</td>\n",
              "      <td>0</td>\n",
              "      <td>0</td>\n",
              "      <td>0</td>\n",
              "      <td>0</td>\n",
              "      <td>0</td>\n",
              "      <td>4</td>\n",
              "      <td>0</td>\n",
              "      <td>72</td>\n",
              "      <td>6</td>\n",
              "      <td>8</td>\n",
              "      <td>0</td>\n",
              "      <td>96</td>\n",
              "      <td>54</td>\n",
              "      <td>30</td>\n",
              "      <td>0</td>\n",
              "      <td>0</td>\n",
              "      <td>4</td>\n",
              "      <td>0</td>\n",
              "      <td>4</td>\n",
              "      <td>0</td>\n",
              "      <td>74</td>\n",
              "      <td>0</td>\n",
              "      <td>0</td>\n",
              "      <td>2</td>\n",
              "      <td>78</td>\n",
              "      <td>18</td>\n",
              "      <td>14</td>\n",
              "      <td>0</td>\n",
              "      <td>70</td>\n",
              "      <td>2</td>\n",
              "      <td>10</td>\n",
              "      <td>4</td>\n",
              "      <td>4</td>\n",
              "      <td>4</td>\n",
              "      <td>0</td>\n",
              "      <td>964</td>\n",
              "      <td>...</td>\n",
              "      <td>0</td>\n",
              "      <td>0</td>\n",
              "      <td>1872</td>\n",
              "      <td>0</td>\n",
              "      <td>109</td>\n",
              "      <td>1812</td>\n",
              "      <td>1</td>\n",
              "      <td>2</td>\n",
              "      <td>3</td>\n",
              "      <td>2</td>\n",
              "      <td>1</td>\n",
              "      <td>0</td>\n",
              "      <td>0</td>\n",
              "      <td>0</td>\n",
              "      <td>1</td>\n",
              "      <td>0</td>\n",
              "      <td>2</td>\n",
              "      <td>3</td>\n",
              "      <td>0</td>\n",
              "      <td>1</td>\n",
              "      <td>0</td>\n",
              "      <td>0</td>\n",
              "      <td>5</td>\n",
              "      <td>4</td>\n",
              "      <td>0</td>\n",
              "      <td>0</td>\n",
              "      <td>1525</td>\n",
              "      <td>14</td>\n",
              "      <td>0</td>\n",
              "      <td>0</td>\n",
              "      <td>0</td>\n",
              "      <td>0</td>\n",
              "      <td>0</td>\n",
              "      <td>0</td>\n",
              "      <td>0</td>\n",
              "      <td>0</td>\n",
              "      <td>0</td>\n",
              "      <td>0</td>\n",
              "      <td>0</td>\n",
              "      <td>0</td>\n",
              "    </tr>\n",
              "    <tr>\n",
              "      <th>352</th>\n",
              "      <td>prosrtate cancer</td>\n",
              "      <td>2</td>\n",
              "      <td>0</td>\n",
              "      <td>46</td>\n",
              "      <td>0</td>\n",
              "      <td>2</td>\n",
              "      <td>0</td>\n",
              "      <td>0</td>\n",
              "      <td>0</td>\n",
              "      <td>0</td>\n",
              "      <td>0</td>\n",
              "      <td>38</td>\n",
              "      <td>0</td>\n",
              "      <td>0</td>\n",
              "      <td>0</td>\n",
              "      <td>52</td>\n",
              "      <td>16</td>\n",
              "      <td>10</td>\n",
              "      <td>0</td>\n",
              "      <td>0</td>\n",
              "      <td>12</td>\n",
              "      <td>0</td>\n",
              "      <td>4</td>\n",
              "      <td>0</td>\n",
              "      <td>44</td>\n",
              "      <td>0</td>\n",
              "      <td>0</td>\n",
              "      <td>0</td>\n",
              "      <td>32</td>\n",
              "      <td>10</td>\n",
              "      <td>0</td>\n",
              "      <td>0</td>\n",
              "      <td>18</td>\n",
              "      <td>2</td>\n",
              "      <td>0</td>\n",
              "      <td>0</td>\n",
              "      <td>2</td>\n",
              "      <td>0</td>\n",
              "      <td>0</td>\n",
              "      <td>246</td>\n",
              "      <td>...</td>\n",
              "      <td>1</td>\n",
              "      <td>0</td>\n",
              "      <td>807</td>\n",
              "      <td>4</td>\n",
              "      <td>38</td>\n",
              "      <td>5595</td>\n",
              "      <td>0</td>\n",
              "      <td>1</td>\n",
              "      <td>1</td>\n",
              "      <td>0</td>\n",
              "      <td>0</td>\n",
              "      <td>0</td>\n",
              "      <td>0</td>\n",
              "      <td>0</td>\n",
              "      <td>1</td>\n",
              "      <td>0</td>\n",
              "      <td>0</td>\n",
              "      <td>1</td>\n",
              "      <td>0</td>\n",
              "      <td>0</td>\n",
              "      <td>0</td>\n",
              "      <td>0</td>\n",
              "      <td>4</td>\n",
              "      <td>2</td>\n",
              "      <td>0</td>\n",
              "      <td>0</td>\n",
              "      <td>841</td>\n",
              "      <td>3</td>\n",
              "      <td>0</td>\n",
              "      <td>0</td>\n",
              "      <td>0</td>\n",
              "      <td>0</td>\n",
              "      <td>0</td>\n",
              "      <td>0</td>\n",
              "      <td>0</td>\n",
              "      <td>0</td>\n",
              "      <td>0</td>\n",
              "      <td>0</td>\n",
              "      <td>0</td>\n",
              "      <td>0</td>\n",
              "    </tr>\n",
              "    <tr>\n",
              "      <th>353</th>\n",
              "      <td>prosrtate cancer</td>\n",
              "      <td>0</td>\n",
              "      <td>0</td>\n",
              "      <td>118</td>\n",
              "      <td>0</td>\n",
              "      <td>2</td>\n",
              "      <td>0</td>\n",
              "      <td>0</td>\n",
              "      <td>2</td>\n",
              "      <td>4</td>\n",
              "      <td>0</td>\n",
              "      <td>128</td>\n",
              "      <td>2</td>\n",
              "      <td>0</td>\n",
              "      <td>0</td>\n",
              "      <td>16</td>\n",
              "      <td>148</td>\n",
              "      <td>490</td>\n",
              "      <td>0</td>\n",
              "      <td>0</td>\n",
              "      <td>2</td>\n",
              "      <td>0</td>\n",
              "      <td>8</td>\n",
              "      <td>0</td>\n",
              "      <td>18</td>\n",
              "      <td>0</td>\n",
              "      <td>0</td>\n",
              "      <td>2</td>\n",
              "      <td>10</td>\n",
              "      <td>56</td>\n",
              "      <td>10</td>\n",
              "      <td>0</td>\n",
              "      <td>34</td>\n",
              "      <td>0</td>\n",
              "      <td>2</td>\n",
              "      <td>2</td>\n",
              "      <td>2</td>\n",
              "      <td>4</td>\n",
              "      <td>0</td>\n",
              "      <td>3012</td>\n",
              "      <td>...</td>\n",
              "      <td>3</td>\n",
              "      <td>0</td>\n",
              "      <td>4648</td>\n",
              "      <td>1</td>\n",
              "      <td>147</td>\n",
              "      <td>89167</td>\n",
              "      <td>9</td>\n",
              "      <td>3</td>\n",
              "      <td>2</td>\n",
              "      <td>3</td>\n",
              "      <td>10</td>\n",
              "      <td>1</td>\n",
              "      <td>0</td>\n",
              "      <td>1</td>\n",
              "      <td>4</td>\n",
              "      <td>0</td>\n",
              "      <td>1</td>\n",
              "      <td>3</td>\n",
              "      <td>0</td>\n",
              "      <td>8</td>\n",
              "      <td>0</td>\n",
              "      <td>0</td>\n",
              "      <td>24</td>\n",
              "      <td>1</td>\n",
              "      <td>7</td>\n",
              "      <td>0</td>\n",
              "      <td>474</td>\n",
              "      <td>36</td>\n",
              "      <td>0</td>\n",
              "      <td>0</td>\n",
              "      <td>0</td>\n",
              "      <td>0</td>\n",
              "      <td>0</td>\n",
              "      <td>0</td>\n",
              "      <td>0</td>\n",
              "      <td>0</td>\n",
              "      <td>0</td>\n",
              "      <td>0</td>\n",
              "      <td>0</td>\n",
              "      <td>0</td>\n",
              "    </tr>\n",
              "    <tr>\n",
              "      <th>354</th>\n",
              "      <td>prosrtate cancer</td>\n",
              "      <td>6</td>\n",
              "      <td>0</td>\n",
              "      <td>94</td>\n",
              "      <td>0</td>\n",
              "      <td>0</td>\n",
              "      <td>0</td>\n",
              "      <td>0</td>\n",
              "      <td>0</td>\n",
              "      <td>4</td>\n",
              "      <td>0</td>\n",
              "      <td>62</td>\n",
              "      <td>2</td>\n",
              "      <td>0</td>\n",
              "      <td>0</td>\n",
              "      <td>70</td>\n",
              "      <td>48</td>\n",
              "      <td>34</td>\n",
              "      <td>0</td>\n",
              "      <td>0</td>\n",
              "      <td>14</td>\n",
              "      <td>0</td>\n",
              "      <td>4</td>\n",
              "      <td>0</td>\n",
              "      <td>56</td>\n",
              "      <td>0</td>\n",
              "      <td>0</td>\n",
              "      <td>4</td>\n",
              "      <td>48</td>\n",
              "      <td>20</td>\n",
              "      <td>10</td>\n",
              "      <td>0</td>\n",
              "      <td>34</td>\n",
              "      <td>2</td>\n",
              "      <td>0</td>\n",
              "      <td>0</td>\n",
              "      <td>2</td>\n",
              "      <td>0</td>\n",
              "      <td>0</td>\n",
              "      <td>504</td>\n",
              "      <td>...</td>\n",
              "      <td>0</td>\n",
              "      <td>0</td>\n",
              "      <td>1360</td>\n",
              "      <td>0</td>\n",
              "      <td>54</td>\n",
              "      <td>2518</td>\n",
              "      <td>2</td>\n",
              "      <td>0</td>\n",
              "      <td>2</td>\n",
              "      <td>3</td>\n",
              "      <td>0</td>\n",
              "      <td>0</td>\n",
              "      <td>0</td>\n",
              "      <td>1</td>\n",
              "      <td>1</td>\n",
              "      <td>0</td>\n",
              "      <td>1</td>\n",
              "      <td>1</td>\n",
              "      <td>0</td>\n",
              "      <td>1</td>\n",
              "      <td>0</td>\n",
              "      <td>0</td>\n",
              "      <td>5</td>\n",
              "      <td>4</td>\n",
              "      <td>0</td>\n",
              "      <td>0</td>\n",
              "      <td>1389</td>\n",
              "      <td>5</td>\n",
              "      <td>0</td>\n",
              "      <td>0</td>\n",
              "      <td>0</td>\n",
              "      <td>0</td>\n",
              "      <td>0</td>\n",
              "      <td>0</td>\n",
              "      <td>0</td>\n",
              "      <td>0</td>\n",
              "      <td>0</td>\n",
              "      <td>0</td>\n",
              "      <td>0</td>\n",
              "      <td>0</td>\n",
              "    </tr>\n",
              "  </tbody>\n",
              "</table>\n",
              "<p>355 rows × 1837 columns</p>\n",
              "</div>"
            ],
            "text/plain": [
              "         disease_type  ...  k__Bacteria.p__Firmicutes.c__Clostridia.o__Clostridiales.f__Ruminococcaceae.g__Subdoligranulum\n",
              "0        colon cancer  ...                                                  0                                             \n",
              "1        colon cancer  ...                                                  0                                             \n",
              "2        colon cancer  ...                                                  0                                             \n",
              "3        colon cancer  ...                                                  0                                             \n",
              "4        colon cancer  ...                                                  0                                             \n",
              "..                ...  ...                                                ...                                             \n",
              "350  prosrtate cancer  ...                                                  0                                             \n",
              "351  prosrtate cancer  ...                                                  0                                             \n",
              "352  prosrtate cancer  ...                                                  0                                             \n",
              "353  prosrtate cancer  ...                                                  0                                             \n",
              "354  prosrtate cancer  ...                                                  0                                             \n",
              "\n",
              "[355 rows x 1837 columns]"
            ]
          },
          "metadata": {
            "tags": []
          },
          "execution_count": 10
        }
      ]
    },
    {
      "cell_type": "code",
      "metadata": {
        "id": "3Q34174w1kNp"
      },
      "source": [
        "X = data.drop(['disease_type'], axis=1)"
      ],
      "execution_count": null,
      "outputs": []
    },
    {
      "cell_type": "code",
      "metadata": {
        "id": "VG-WqY591kJs"
      },
      "source": [
        "y = data['disease_type']"
      ],
      "execution_count": null,
      "outputs": []
    },
    {
      "cell_type": "code",
      "metadata": {
        "id": "tP7bNY181kI1"
      },
      "source": [
        "X_encoded = pd.get_dummies(X, prefix_sep=\"_\")\n",
        "y_encoded = LabelEncoder().fit_transform(y)"
      ],
      "execution_count": null,
      "outputs": []
    },
    {
      "cell_type": "code",
      "metadata": {
        "id": "kf6qhbj41kD-"
      },
      "source": [
        "X_scaled = StandardScaler().fit_transform(X_encoded)"
      ],
      "execution_count": null,
      "outputs": []
    },
    {
      "cell_type": "code",
      "metadata": {
        "id": "hqBr38q11kDF",
        "colab": {
          "base_uri": "https://localhost:8080/",
          "height": 247
        },
        "outputId": "95a9d3b3-5bbf-4f58-855a-e7d112b2aebd"
      },
      "source": [
        "X_scaled"
      ],
      "execution_count": null,
      "outputs": [
        {
          "output_type": "execute_result",
          "data": {
            "text/plain": [
              "array([[-0.69211395, -0.34442468, -0.91359726, ..., -0.21960953,\n",
              "        -0.07527099, -0.06342219],\n",
              "       [-0.69211395, -0.34442468, -0.87667058, ..., -0.21960953,\n",
              "        -0.07527099, -0.06342219],\n",
              "       [-0.25954273, -0.34442468,  3.4252876 , ..., -0.21960953,\n",
              "        -0.07527099, -0.06342219],\n",
              "       ...,\n",
              "       [-0.25954273, -0.34442468, -0.61818382, ..., -0.21960953,\n",
              "        -0.07527099, -0.06342219],\n",
              "       [-0.69211395, -0.34442468,  0.04649641, ..., -0.21960953,\n",
              "        -0.07527099, -0.06342219],\n",
              "       [ 0.6055997 , -0.34442468, -0.17506367, ..., -0.21960953,\n",
              "        -0.07527099, -0.06342219]])"
            ]
          },
          "metadata": {
            "tags": []
          },
          "execution_count": 15
        }
      ]
    },
    {
      "cell_type": "code",
      "metadata": {
        "id": "IHuT3-KB1j-w"
      },
      "source": [
        "X_train, X_test, y_train, y_test = train_test_split(X_scaled, y_encoded, test_size = 0.3, random_state = 150)"
      ],
      "execution_count": null,
      "outputs": []
    },
    {
      "cell_type": "code",
      "metadata": {
        "id": "ObG7S0Cz1j96"
      },
      "source": [
        "from sklearn.metrics import classification_report, confusion_matrix\n",
        "from sklearn.ensemble import RandomForestClassifier"
      ],
      "execution_count": null,
      "outputs": []
    },
    {
      "cell_type": "code",
      "metadata": {
        "id": "uoljY4VL596i",
        "colab": {
          "base_uri": "https://localhost:8080/",
          "height": 247
        },
        "outputId": "ee376d51-72c1-4094-9204-d4b9dc5fa8d3"
      },
      "source": [
        "X_test"
      ],
      "execution_count": null,
      "outputs": [
        {
          "output_type": "execute_result",
          "data": {
            "text/plain": [
              "array([[-0.69211395, -0.34442468,  1.20968682, ..., -0.21960953,\n",
              "        -0.07527099, -0.06342219],\n",
              "       [-0.25954273, -0.34442468, -0.34123373, ..., -0.21960953,\n",
              "        -0.07527099, -0.06342219],\n",
              "       [-0.69211395, -0.34442468, -0.43355042, ..., -0.21960953,\n",
              "        -0.07527099, -0.06342219],\n",
              "       ...,\n",
              "       [ 0.6055997 , -0.34442468, -0.19352701, ..., -0.21960953,\n",
              "        -0.07527099, -0.06342219],\n",
              "       [ 1.47074214,  1.18395983,  1.96668375, ..., -0.21960953,\n",
              "        -0.07527099, -0.06342219],\n",
              "       [-0.25954273, -0.34442468, -0.43355042, ..., -0.21960953,\n",
              "        -0.07527099, -0.06342219]])"
            ]
          },
          "metadata": {
            "tags": []
          },
          "execution_count": 49
        }
      ]
    },
    {
      "cell_type": "code",
      "metadata": {
        "id": "XA_waYIN1jy-",
        "colab": {
          "base_uri": "https://localhost:8080/",
          "height": 283
        },
        "outputId": "fe6fb817-c2c1-4ca7-84b2-fdc53d50e10b"
      },
      "source": [
        "model = RandomForestClassifier(n_estimators=700).fit(X_train,y_train)\n",
        "preds = model.predict(X_test)\n",
        "\n",
        "print(confusion_matrix(y_test,preds))\n",
        "print(classification_report(y_test,preds))"
      ],
      "execution_count": null,
      "outputs": [
        {
          "output_type": "stream",
          "text": [
            "[[28  1  0  2]\n",
            " [ 0 32  0  0]\n",
            " [ 0  0  7  0]\n",
            " [ 0  0  0 37]]\n",
            "              precision    recall  f1-score   support\n",
            "\n",
            "           0       1.00      0.90      0.95        31\n",
            "           1       0.97      1.00      0.98        32\n",
            "           2       1.00      1.00      1.00         7\n",
            "           3       0.95      1.00      0.97        37\n",
            "\n",
            "    accuracy                           0.97       107\n",
            "   macro avg       0.98      0.98      0.98       107\n",
            "weighted avg       0.97      0.97      0.97       107\n",
            "\n"
          ],
          "name": "stdout"
        }
      ]
    },
    {
      "cell_type": "code",
      "metadata": {
        "id": "TvIMEqNQ1jmu",
        "colab": {
          "base_uri": "https://localhost:8080/",
          "height": 105
        },
        "outputId": "60714a96-62e1-4bf1-99dd-1f0f7dbbbfd0"
      },
      "source": [
        "preds"
      ],
      "execution_count": null,
      "outputs": [
        {
          "output_type": "execute_result",
          "data": {
            "text/plain": [
              "array([2, 0, 0, 0, 3, 0, 3, 0, 2, 1, 3, 3, 3, 0, 3, 3, 1, 0, 3, 3, 1, 3,\n",
              "       3, 1, 0, 3, 0, 0, 3, 3, 3, 3, 1, 0, 1, 2, 3, 0, 2, 1, 3, 3, 0, 0,\n",
              "       1, 0, 1, 3, 1, 3, 1, 1, 3, 3, 0, 1, 1, 0, 2, 1, 1, 1, 0, 2, 1, 3,\n",
              "       0, 1, 0, 0, 3, 1, 3, 1, 3, 3, 1, 1, 3, 0, 1, 3, 3, 0, 2, 1, 0, 1,\n",
              "       1, 0, 1, 0, 0, 0, 1, 1, 3, 3, 1, 3, 3, 3, 1, 3, 3, 1, 3])"
            ]
          },
          "metadata": {
            "tags": []
          },
          "execution_count": 19
        }
      ]
    },
    {
      "cell_type": "code",
      "metadata": {
        "id": "ktA6oMF62Sn3"
      },
      "source": [
        "import matplotlib.pylab as plt"
      ],
      "execution_count": null,
      "outputs": []
    },
    {
      "cell_type": "code",
      "metadata": {
        "id": "kbKvoneG2STd"
      },
      "source": [
        "feature_imp = pd.Series(model.feature_importances_, index = X_encoded.columns)"
      ],
      "execution_count": null,
      "outputs": []
    },
    {
      "cell_type": "code",
      "metadata": {
        "id": "aSIyEfn92SPH",
        "colab": {
          "base_uri": "https://localhost:8080/",
          "height": 282
        },
        "outputId": "f6d8950f-d12a-4d47-b222-d4cc126a79cd"
      },
      "source": [
        "feature_imp.nlargest(20).plot(kind=\"barh\") ##modele en çok etki eden kolonlar"
      ],
      "execution_count": null,
      "outputs": [
        {
          "output_type": "execute_result",
          "data": {
            "text/plain": [
              "<matplotlib.axes._subplots.AxesSubplot at 0x7f4380fd99e8>"
            ]
          },
          "metadata": {
            "tags": []
          },
          "execution_count": 22
        },
        {
          "output_type": "display_data",
          "data": {
            "image/png": "[encoded data removed]",
            "text/plain": [
              "<Figure size 432x288 with 1 Axes>"
            ]
          },
          "metadata": {
            "tags": [],
            "needs_background": "light"
          }
        }
      ]
    },
    {
      "cell_type": "code",
      "metadata": {
        "id": "nGnDaoH02SOK"
      },
      "source": [
        "best_feat = feature_imp.nlargest(10).index"
      ],
      "execution_count": null,
      "outputs": []
    },
    {
      "cell_type": "code",
      "metadata": {
        "id": "R-cOXhb32SLC",
        "colab": {
          "base_uri": "https://localhost:8080/",
          "height": 212
        },
        "outputId": "fff9ea14-6538-4f16-d07d-da49684a4924"
      },
      "source": [
        "best_feat"
      ],
      "execution_count": null,
      "outputs": [
        {
          "output_type": "execute_result",
          "data": {
            "text/plain": [
              "Index(['k__Bacteria.p__Proteobacteria.c__Gammaproteobacteria.o__Enterobacteriales.f__Enterobacteriaceae.g__Citrobacter',\n",
              "       'k__Bacteria.p__Firmicutes.c__Clostridia.o__Clostridiales.f__Clostridiales_Family_XIII._Incertae_Sedis.g__Anaerovorax',\n",
              "       'k__Viruses.o__Caudovirales.f__Myoviridae.g__T4likevirus',\n",
              "       'k__Viruses.f__Circoviridae.g__Circovirus',\n",
              "       'k__Bacteria.p__Firmicutes.c__Clostridia.o__Clostridiales.f__Eubacteriaceae.g__Acetobacterium',\n",
              "       'k__Bacteria.p__Proteobacteria.c__Betaproteobacteria.o__Neisseriales.f__Chromobacteriaceae.g__Pseudogulbenkiania',\n",
              "       'k__Bacteria.p__Proteobacteria.c__Deltaproteobacteria.o__Myxococcales.f__Cystobacteraceae.g__Cystobacter',\n",
              "       'k__Bacteria.p__Proteobacteria.c__Alphaproteobacteria.o__Rhizobiales.f__Bradyrhizobiaceae.g__Bradyrhizobium',\n",
              "       'k__Bacteria.p__Firmicutes.c__Bacilli.o__Bacillales.g__Exiguobacterium',\n",
              "       'k__Bacteria.p__Proteobacteria.c__Gammaproteobacteria.o__Thiotrichales.f__Francisellaceae.g__Francisella'],\n",
              "      dtype='object')"
            ]
          },
          "metadata": {
            "tags": []
          },
          "execution_count": 24
        }
      ]
    },
    {
      "cell_type": "code",
      "metadata": {
        "id": "wH7eqQG12SJ4"
      },
      "source": [
        "X_reduced = X_encoded[best_feat]"
      ],
      "execution_count": null,
      "outputs": []
    },
    {
      "cell_type": "code",
      "metadata": {
        "id": "xyOsKrb82R3h",
        "colab": {
          "base_uri": "https://localhost:8080/",
          "height": 367
        },
        "outputId": "40841c9d-4254-4c37-e00d-fb2db625a533"
      },
      "source": [
        "X_reduced.head(10)"
      ],
      "execution_count": null,
      "outputs": [
        {
          "output_type": "execute_result",
          "data": {
            "text/html": [
              "<div>\n",
              "<style scoped>\n",
              "    .dataframe tbody tr th:only-of-type {\n",
              "        vertical-align: middle;\n",
              "    }\n",
              "\n",
              "    .dataframe tbody tr th {\n",
              "        vertical-align: top;\n",
              "    }\n",
              "\n",
              "    .dataframe thead th {\n",
              "        text-align: right;\n",
              "    }\n",
              "</style>\n",
              "<table border=\"1\" class=\"dataframe\">\n",
              "  <thead>\n",
              "    <tr style=\"text-align: right;\">\n",
              "      <th></th>\n",
              "      <th>k__Bacteria.p__Proteobacteria.c__Gammaproteobacteria.o__Enterobacteriales.f__Enterobacteriaceae.g__Citrobacter</th>\n",
              "      <th>k__Bacteria.p__Firmicutes.c__Clostridia.o__Clostridiales.f__Clostridiales_Family_XIII._Incertae_Sedis.g__Anaerovorax</th>\n",
              "      <th>k__Viruses.o__Caudovirales.f__Myoviridae.g__T4likevirus</th>\n",
              "      <th>k__Viruses.f__Circoviridae.g__Circovirus</th>\n",
              "      <th>k__Bacteria.p__Firmicutes.c__Clostridia.o__Clostridiales.f__Eubacteriaceae.g__Acetobacterium</th>\n",
              "      <th>k__Bacteria.p__Proteobacteria.c__Betaproteobacteria.o__Neisseriales.f__Chromobacteriaceae.g__Pseudogulbenkiania</th>\n",
              "      <th>k__Bacteria.p__Proteobacteria.c__Deltaproteobacteria.o__Myxococcales.f__Cystobacteraceae.g__Cystobacter</th>\n",
              "      <th>k__Bacteria.p__Proteobacteria.c__Alphaproteobacteria.o__Rhizobiales.f__Bradyrhizobiaceae.g__Bradyrhizobium</th>\n",
              "      <th>k__Bacteria.p__Firmicutes.c__Bacilli.o__Bacillales.g__Exiguobacterium</th>\n",
              "      <th>k__Bacteria.p__Proteobacteria.c__Gammaproteobacteria.o__Thiotrichales.f__Francisellaceae.g__Francisella</th>\n",
              "    </tr>\n",
              "  </thead>\n",
              "  <tbody>\n",
              "    <tr>\n",
              "      <th>0</th>\n",
              "      <td>176</td>\n",
              "      <td>3</td>\n",
              "      <td>0</td>\n",
              "      <td>2</td>\n",
              "      <td>7</td>\n",
              "      <td>453</td>\n",
              "      <td>11</td>\n",
              "      <td>823</td>\n",
              "      <td>239</td>\n",
              "      <td>90</td>\n",
              "    </tr>\n",
              "    <tr>\n",
              "      <th>1</th>\n",
              "      <td>185</td>\n",
              "      <td>0</td>\n",
              "      <td>0</td>\n",
              "      <td>0</td>\n",
              "      <td>2</td>\n",
              "      <td>3</td>\n",
              "      <td>1</td>\n",
              "      <td>158</td>\n",
              "      <td>199</td>\n",
              "      <td>80</td>\n",
              "    </tr>\n",
              "    <tr>\n",
              "      <th>2</th>\n",
              "      <td>4401</td>\n",
              "      <td>25</td>\n",
              "      <td>0</td>\n",
              "      <td>1534</td>\n",
              "      <td>79</td>\n",
              "      <td>1821</td>\n",
              "      <td>40</td>\n",
              "      <td>6309</td>\n",
              "      <td>3925</td>\n",
              "      <td>1034</td>\n",
              "    </tr>\n",
              "    <tr>\n",
              "      <th>3</th>\n",
              "      <td>488</td>\n",
              "      <td>2</td>\n",
              "      <td>0</td>\n",
              "      <td>0</td>\n",
              "      <td>3</td>\n",
              "      <td>5</td>\n",
              "      <td>0</td>\n",
              "      <td>517</td>\n",
              "      <td>480</td>\n",
              "      <td>202</td>\n",
              "    </tr>\n",
              "    <tr>\n",
              "      <th>4</th>\n",
              "      <td>1156</td>\n",
              "      <td>13</td>\n",
              "      <td>0</td>\n",
              "      <td>402</td>\n",
              "      <td>63</td>\n",
              "      <td>121</td>\n",
              "      <td>68</td>\n",
              "      <td>8481</td>\n",
              "      <td>1619</td>\n",
              "      <td>341</td>\n",
              "    </tr>\n",
              "    <tr>\n",
              "      <th>5</th>\n",
              "      <td>225</td>\n",
              "      <td>1</td>\n",
              "      <td>0</td>\n",
              "      <td>0</td>\n",
              "      <td>0</td>\n",
              "      <td>689</td>\n",
              "      <td>0</td>\n",
              "      <td>637</td>\n",
              "      <td>222</td>\n",
              "      <td>94</td>\n",
              "    </tr>\n",
              "    <tr>\n",
              "      <th>6</th>\n",
              "      <td>263</td>\n",
              "      <td>1</td>\n",
              "      <td>0</td>\n",
              "      <td>0</td>\n",
              "      <td>0</td>\n",
              "      <td>58</td>\n",
              "      <td>0</td>\n",
              "      <td>92</td>\n",
              "      <td>210</td>\n",
              "      <td>76</td>\n",
              "    </tr>\n",
              "    <tr>\n",
              "      <th>7</th>\n",
              "      <td>2383</td>\n",
              "      <td>16</td>\n",
              "      <td>0</td>\n",
              "      <td>616</td>\n",
              "      <td>34</td>\n",
              "      <td>1041</td>\n",
              "      <td>12</td>\n",
              "      <td>3561</td>\n",
              "      <td>1867</td>\n",
              "      <td>587</td>\n",
              "    </tr>\n",
              "    <tr>\n",
              "      <th>8</th>\n",
              "      <td>818</td>\n",
              "      <td>2</td>\n",
              "      <td>0</td>\n",
              "      <td>598</td>\n",
              "      <td>41</td>\n",
              "      <td>2368</td>\n",
              "      <td>46</td>\n",
              "      <td>23667</td>\n",
              "      <td>585</td>\n",
              "      <td>192</td>\n",
              "    </tr>\n",
              "    <tr>\n",
              "      <th>9</th>\n",
              "      <td>335</td>\n",
              "      <td>1</td>\n",
              "      <td>0</td>\n",
              "      <td>0</td>\n",
              "      <td>1</td>\n",
              "      <td>20</td>\n",
              "      <td>2</td>\n",
              "      <td>181</td>\n",
              "      <td>264</td>\n",
              "      <td>122</td>\n",
              "    </tr>\n",
              "  </tbody>\n",
              "</table>\n",
              "</div>"
            ],
            "text/plain": [
              "   k__Bacteria.p__Proteobacteria.c__Gammaproteobacteria.o__Enterobacteriales.f__Enterobacteriaceae.g__Citrobacter  ...  k__Bacteria.p__Proteobacteria.c__Gammaproteobacteria.o__Thiotrichales.f__Francisellaceae.g__Francisella\n",
              "0                                                176                                                               ...                                                 90                                                      \n",
              "1                                                185                                                               ...                                                 80                                                      \n",
              "2                                               4401                                                               ...                                               1034                                                      \n",
              "3                                                488                                                               ...                                                202                                                      \n",
              "4                                               1156                                                               ...                                                341                                                      \n",
              "5                                                225                                                               ...                                                 94                                                      \n",
              "6                                                263                                                               ...                                                 76                                                      \n",
              "7                                               2383                                                               ...                                                587                                                      \n",
              "8                                                818                                                               ...                                                192                                                      \n",
              "9                                                335                                                               ...                                                122                                                      \n",
              "\n",
              "[10 rows x 10 columns]"
            ]
          },
          "metadata": {
            "tags": []
          },
          "execution_count": 26
        }
      ]
    },
    {
      "cell_type": "code",
      "metadata": {
        "id": "THWQdWjL2Rzl"
      },
      "source": [
        "Xr_scaled = StandardScaler().fit_transform(X_reduced)"
      ],
      "execution_count": null,
      "outputs": []
    },
    {
      "cell_type": "code",
      "metadata": {
        "id": "LIvJQcVI2Rx4"
      },
      "source": [
        "Xr_train, Xr_test, yr_train, yr_test = train_test_split(Xr_scaled, y_encoded, test_size = 0.3, random_state = 150)"
      ],
      "execution_count": null,
      "outputs": []
    },
    {
      "cell_type": "code",
      "metadata": {
        "id": "DjIZBdCw2Rui"
      },
      "source": [
        "rmodel = RandomForestClassifier(n_estimators=700).fit(Xr_train,yr_train)\n",
        "rpreds = rmodel.predict(Xr_test)\n",
        "\n",
        "\n",
        "\n"
      ],
      "execution_count": null,
      "outputs": []
    },
    {
      "cell_type": "code",
      "metadata": {
        "id": "IdTWJL-S2RtP",
        "colab": {
          "base_uri": "https://localhost:8080/",
          "height": 283
        },
        "outputId": "b4e023c0-8f65-4201-e41c-49ac8a6f59bc"
      },
      "source": [
        "print(confusion_matrix(y_test,rpreds))\n",
        "print(classification_report(y_test,rpreds))"
      ],
      "execution_count": null,
      "outputs": [
        {
          "output_type": "stream",
          "text": [
            "[[27  1  0  3]\n",
            " [ 0 32  0  0]\n",
            " [ 0  0  6  1]\n",
            " [ 0  0  0 37]]\n",
            "              precision    recall  f1-score   support\n",
            "\n",
            "           0       1.00      0.87      0.93        31\n",
            "           1       0.97      1.00      0.98        32\n",
            "           2       1.00      0.86      0.92         7\n",
            "           3       0.90      1.00      0.95        37\n",
            "\n",
            "    accuracy                           0.95       107\n",
            "   macro avg       0.97      0.93      0.95       107\n",
            "weighted avg       0.96      0.95      0.95       107\n",
            "\n"
          ],
          "name": "stdout"
        }
      ]
    },
    {
      "cell_type": "code",
      "metadata": {
        "id": "AoKyX6ec2Rpt",
        "colab": {
          "base_uri": "https://localhost:8080/",
          "height": 283
        },
        "outputId": "3d7afc89-688f-499f-c2a9-e12b285ec015"
      },
      "source": [
        "print(confusion_matrix(y_test,rpreds))\n",
        "print(classification_report(y_test,rpreds))"
      ],
      "execution_count": null,
      "outputs": [
        {
          "output_type": "stream",
          "text": [
            "[[27  1  0  3]\n",
            " [ 0 32  0  0]\n",
            " [ 0  0  6  1]\n",
            " [ 0  0  0 37]]\n",
            "              precision    recall  f1-score   support\n",
            "\n",
            "           0       1.00      0.87      0.93        31\n",
            "           1       0.97      1.00      0.98        32\n",
            "           2       1.00      0.86      0.92         7\n",
            "           3       0.90      1.00      0.95        37\n",
            "\n",
            "    accuracy                           0.95       107\n",
            "   macro avg       0.97      0.93      0.95       107\n",
            "weighted avg       0.96      0.95      0.95       107\n",
            "\n"
          ],
          "name": "stdout"
        }
      ]
    },
    {
      "cell_type": "markdown",
      "metadata": {
        "id": "TjzYWFVR24hd"
      },
      "source": [
        "Normalde confusion matris 2x2 lik bir matris. Ancak 4 sınıf olduğu için Pythonda 1x4lük olarak yazılmış. Gerçek ve tahmini değerler incelenerek TP, FP, FN, TN değerlerinin yerleri tespit edildi. Sonrasında Specificity ve Sensitivity değerleri hesaplandı. 4 sınıf için ayrı ayrı hesaplanması istenildiği için 4 tane Specificity ve 4 tane Sensitivity değeri bulunur."
      ]
    },
    {
      "cell_type": "code",
      "metadata": {
        "id": "nv5TnX1W2RoE"
      },
      "source": [
        "#[[27  1  0  3]  TP, FP, FN, TN  0 - class\n",
        " #[ 0 32  0  0]  TN, TP, FP, FN  1 - class\n",
        " #[ 0  0  6  1]  FN, TN, TP, FP  2 - class\n",
        " #[ 0  0  0 37]] FP, FN, TN, TP  3 - class\n",
        "\n",
        " # [27  1]  [ 32 0]   [ 6  1    [ 37 0   \n",
        " # [0  3]   [ 0  0]     0  0]     0  0]"
      ],
      "execution_count": null,
      "outputs": []
    },
    {
      "cell_type": "code",
      "metadata": {
        "id": "v5vGbbDQ2Rk7"
      },
      "source": [
        "gbm = xgb.XGBClassifier(max_depth=3, n_estimators=300, learning_rate=0.05).fit(Xr_scaled, y_encoded)\n",
        "predictions = gbm.predict(Xr_test)\n"
      ],
      "execution_count": null,
      "outputs": []
    },
    {
      "cell_type": "code",
      "metadata": {
        "id": "smvIe2bf2Rje",
        "colab": {
          "base_uri": "https://localhost:8080/",
          "height": 105
        },
        "outputId": "cc1746ba-f7dc-49fe-ce0d-ec4544c6a288"
      },
      "source": [
        "predictions"
      ],
      "execution_count": null,
      "outputs": [
        {
          "output_type": "execute_result",
          "data": {
            "text/plain": [
              "array([2, 0, 0, 0, 3, 0, 3, 0, 2, 1, 3, 3, 3, 0, 3, 3, 1, 0, 3, 3, 1, 3,\n",
              "       3, 0, 0, 3, 0, 0, 3, 3, 3, 3, 1, 0, 1, 2, 3, 0, 2, 1, 3, 3, 0, 0,\n",
              "       1, 0, 1, 3, 1, 3, 1, 1, 0, 3, 0, 1, 1, 0, 2, 1, 1, 1, 0, 2, 1, 3,\n",
              "       0, 1, 0, 0, 3, 1, 0, 1, 3, 3, 1, 1, 3, 0, 1, 3, 3, 0, 2, 1, 0, 1,\n",
              "       1, 0, 1, 0, 0, 0, 1, 1, 3, 3, 1, 3, 3, 3, 1, 3, 3, 1, 3])"
            ]
          },
          "metadata": {
            "tags": []
          },
          "execution_count": 34
        }
      ]
    },
    {
      "cell_type": "code",
      "metadata": {
        "id": "EI9qpJ192Rfs",
        "colab": {
          "base_uri": "https://localhost:8080/",
          "height": 105
        },
        "outputId": "7a1651fe-6e9b-4b4a-bcf7-c3de3545d57a"
      },
      "source": [
        "y_test"
      ],
      "execution_count": null,
      "outputs": [
        {
          "output_type": "execute_result",
          "data": {
            "text/plain": [
              "array([2, 0, 0, 0, 3, 0, 3, 0, 2, 1, 3, 3, 3, 0, 3, 3, 1, 0, 3, 3, 1, 3,\n",
              "       3, 0, 0, 3, 0, 0, 3, 3, 3, 3, 1, 0, 1, 2, 3, 0, 2, 1, 3, 3, 0, 0,\n",
              "       1, 0, 1, 3, 1, 3, 1, 1, 0, 3, 0, 1, 1, 0, 2, 1, 1, 1, 0, 2, 1, 3,\n",
              "       0, 1, 0, 0, 3, 1, 0, 1, 3, 3, 1, 1, 3, 0, 1, 3, 3, 0, 2, 1, 0, 1,\n",
              "       1, 0, 1, 0, 0, 0, 1, 1, 3, 3, 1, 3, 3, 3, 1, 3, 3, 1, 3])"
            ]
          },
          "metadata": {
            "tags": []
          },
          "execution_count": 35
        }
      ]
    },
    {
      "cell_type": "code",
      "metadata": {
        "id": "wovgJ6K72Re0",
        "colab": {
          "base_uri": "https://localhost:8080/",
          "height": 283
        },
        "outputId": "1f4c24c7-4995-43a7-9fff-61f3c0d3eab7"
      },
      "source": [
        "print(confusion_matrix(y_test,predictions))\n",
        "print(classification_report(y_test,predictions))"
      ],
      "execution_count": null,
      "outputs": [
        {
          "output_type": "stream",
          "text": [
            "[[31  0  0  0]\n",
            " [ 0 32  0  0]\n",
            " [ 0  0  7  0]\n",
            " [ 0  0  0 37]]\n",
            "              precision    recall  f1-score   support\n",
            "\n",
            "           0       1.00      1.00      1.00        31\n",
            "           1       1.00      1.00      1.00        32\n",
            "           2       1.00      1.00      1.00         7\n",
            "           3       1.00      1.00      1.00        37\n",
            "\n",
            "    accuracy                           1.00       107\n",
            "   macro avg       1.00      1.00      1.00       107\n",
            "weighted avg       1.00      1.00      1.00       107\n",
            "\n"
          ],
          "name": "stdout"
        }
      ]
    },
    {
      "cell_type": "code",
      "metadata": {
        "id": "9BbsoW3o3IaR"
      },
      "source": [
        "cm = confusion_matrix(y_test,predictions) ##confusion matrix = öngörülen ve gerçek değerlerin 4 farklı kombinasyonunu içeren tablo"
      ],
      "execution_count": null,
      "outputs": []
    },
    {
      "cell_type": "markdown",
      "metadata": {
        "id": "jvMa_RpO3P0M"
      },
      "source": [
        "Specificity'lerin nan gelmesinin sebebi TN ve FP değerlerinin 0 olmasından kaynaklanmaktadır. Mailde belirtildiği gibi asıl sınıf haricindeki diğer sınıfların hepsi negatif sayılsa da aynı şekilde nan gelmektedir"
      ]
    },
    {
      "cell_type": "code",
      "metadata": {
        "id": "6nUpHcJG3IGy",
        "colab": {
          "base_uri": "https://localhost:8080/",
          "height": 70
        },
        "outputId": "2e439c44-8028-48e9-8adb-6160b33513e1"
      },
      "source": [
        "specificity1 = cm[0,3]/(cm[0,3]+cm[0,1])    ##cm[0,3]/(cm[0,3]+cm[0,1]+cm[0,2]) hesaplama içerisinde tüm negatifler alınsada sonuç aynı çıktı\n",
        "print('Specificity1 : ', specificity1)           ##SP = TN/(TN+FP) = TN/N    ikisi de aynıdır. "
      ],
      "execution_count": null,
      "outputs": [
        {
          "output_type": "stream",
          "text": [
            "Specificity1 :  nan\n"
          ],
          "name": "stdout"
        },
        {
          "output_type": "stream",
          "text": [
            "/usr/local/lib/python3.6/dist-packages/ipykernel_launcher.py:1: RuntimeWarning: invalid value encountered in long_scalars\n",
            "  \"\"\"Entry point for launching an IPython kernel.\n"
          ],
          "name": "stderr"
        }
      ]
    },
    {
      "cell_type": "code",
      "metadata": {
        "id": "RHRvubhQ3U6m",
        "colab": {
          "base_uri": "https://localhost:8080/",
          "height": 70
        },
        "outputId": "fc8d32a6-8e1e-466a-aa85-e9c30c6479d9"
      },
      "source": [
        "specificity2 = cm[1,0]/(cm[1,0]+cm[1,2])\n",
        "print('Specificity2 : ', specificity2)"
      ],
      "execution_count": null,
      "outputs": [
        {
          "output_type": "stream",
          "text": [
            "Specificity2 :  nan\n"
          ],
          "name": "stdout"
        },
        {
          "output_type": "stream",
          "text": [
            "/usr/local/lib/python3.6/dist-packages/ipykernel_launcher.py:1: RuntimeWarning: invalid value encountered in long_scalars\n",
            "  \"\"\"Entry point for launching an IPython kernel.\n"
          ],
          "name": "stderr"
        }
      ]
    },
    {
      "cell_type": "code",
      "metadata": {
        "id": "Jr_0Mo4B3U0X",
        "colab": {
          "base_uri": "https://localhost:8080/",
          "height": 70
        },
        "outputId": "5e4c0bf4-d176-43c0-8e5a-0e77290978f7"
      },
      "source": [
        "specificity3 = cm[2,1]/(cm[2,1]+cm[2,3])\n",
        "print('Specificity3 : ', specificity3)"
      ],
      "execution_count": null,
      "outputs": [
        {
          "output_type": "stream",
          "text": [
            "Specificity3 :  nan\n"
          ],
          "name": "stdout"
        },
        {
          "output_type": "stream",
          "text": [
            "/usr/local/lib/python3.6/dist-packages/ipykernel_launcher.py:1: RuntimeWarning: invalid value encountered in long_scalars\n",
            "  \"\"\"Entry point for launching an IPython kernel.\n"
          ],
          "name": "stderr"
        }
      ]
    },
    {
      "cell_type": "code",
      "metadata": {
        "id": "gNaCPJvl3Us_",
        "colab": {
          "base_uri": "https://localhost:8080/",
          "height": 70
        },
        "outputId": "ac30da3a-c302-40c3-bc47-760f84e97c4e"
      },
      "source": [
        "specificity4 = cm[3,2]/(cm[3,2]+cm[3,0])\n",
        "print('Specificity4 : ', specificity4)"
      ],
      "execution_count": null,
      "outputs": [
        {
          "output_type": "stream",
          "text": [
            "Specificity4 :  nan\n"
          ],
          "name": "stdout"
        },
        {
          "output_type": "stream",
          "text": [
            "/usr/local/lib/python3.6/dist-packages/ipykernel_launcher.py:1: RuntimeWarning: invalid value encountered in long_scalars\n",
            "  \"\"\"Entry point for launching an IPython kernel.\n"
          ],
          "name": "stderr"
        }
      ]
    },
    {
      "cell_type": "markdown",
      "metadata": {
        "id": "o9IcuGA23d4M"
      },
      "source": [
        "Sensitivity değeri 4 sınıf için de 1 olarak gelir. Çünkü TP haricindeki bütün durumlar 0dır"
      ]
    },
    {
      "cell_type": "code",
      "metadata": {
        "id": "5vTR52dP3Uki",
        "colab": {
          "base_uri": "https://localhost:8080/",
          "height": 34
        },
        "outputId": "c74fd674-add6-49e5-f450-1135014469f0"
      },
      "source": [
        "sensitivity1 = cm[0,0]/(cm[0,0]+cm[0,2])\n",
        "print('Sensitivity1 : ', sensitivity1 )"
      ],
      "execution_count": null,
      "outputs": [
        {
          "output_type": "stream",
          "text": [
            "Sensitivity1 :  1.0\n"
          ],
          "name": "stdout"
        }
      ]
    },
    {
      "cell_type": "code",
      "metadata": {
        "id": "B0d94tWs3UT3",
        "colab": {
          "base_uri": "https://localhost:8080/",
          "height": 34
        },
        "outputId": "7736ea12-538e-4f6f-d2ed-0491e05608fe"
      },
      "source": [
        "sensitivity2 = cm[1,1]/(cm[1,1]+cm[1,3])\n",
        "print('Sensitivity2 : ', sensitivity2 )"
      ],
      "execution_count": null,
      "outputs": [
        {
          "output_type": "stream",
          "text": [
            "Sensitivity2 :  1.0\n"
          ],
          "name": "stdout"
        }
      ]
    },
    {
      "cell_type": "code",
      "metadata": {
        "id": "x8sFoLb63UAg",
        "colab": {
          "base_uri": "https://localhost:8080/",
          "height": 34
        },
        "outputId": "7721972c-9821-4808-aabb-9136889784b4"
      },
      "source": [
        "sensitivity3 = cm[2,2]/(cm[2,2]+cm[2,0])\n",
        "print('Sensitivity3 : ', sensitivity3 )"
      ],
      "execution_count": null,
      "outputs": [
        {
          "output_type": "stream",
          "text": [
            "Sensitivity3 :  1.0\n"
          ],
          "name": "stdout"
        }
      ]
    },
    {
      "cell_type": "code",
      "metadata": {
        "id": "7-Hpl2MA3T4u",
        "colab": {
          "base_uri": "https://localhost:8080/",
          "height": 34
        },
        "outputId": "226dddd4-11e3-4420-e5c9-6f394b1da3cc"
      },
      "source": [
        "sensitivity4 = cm[3,3]/(cm[3,3]+cm[3,1])\n",
        "print('Sensitivity4 : ', sensitivity4)"
      ],
      "execution_count": null,
      "outputs": [
        {
          "output_type": "stream",
          "text": [
            "Sensitivity4 :  1.0\n"
          ],
          "name": "stdout"
        }
      ]
    }
  ]
}